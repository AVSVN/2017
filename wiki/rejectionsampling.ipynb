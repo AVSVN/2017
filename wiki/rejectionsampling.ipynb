{
 "cells": [
  {
   "cell_type": "markdown",
   "metadata": {},
   "source": [
    "# Rejection Sampling\n"
   ]
  },
  {
   "cell_type": "code",
   "execution_count": 2,
   "metadata": {
    "collapsed": false,
    "hide": true
   },
   "outputs": [],
   "source": [
    "%matplotlib inline\n",
    "import numpy as np\n",
    "import matplotlib.pyplot as plt\n",
    "import seaborn as sns"
   ]
  },
  {
   "cell_type": "markdown",
   "metadata": {},
   "source": [
    "## Basic Rejection Sampling\n",
    "\n",
    "The basic idea, come up with by von Neumann is:\n",
    "\n",
    "If you have a function you are trying to sample from, whose functional form is well known, basically accept the sample by generating a uniform random number at any $x$ and accepting it if the value is below the value of the function at that $x$.\n",
    "\n",
    "This is illustrated in the diagram below:\n",
    "\n",
    "![](images/Rejection.png)\n",
    "\n",
    "\n",
    "### The process\n",
    "\n",
    "1. Draw $x$ uniformly from $[x_{min},\\, x_{max}]$\n",
    "2. Draw $y$ uniformly from [0,$y_{max}$]\n",
    "3. if $y$ < f($x$), accept the sample\n",
    "4. otherwise reject it\n",
    "5. repeat\n",
    "\n",
    "This works  as more samples will be accepted in the regions of $x$-space where the function $f$ is higher: indeed they will be accepted in the ratio of the height of the function at any given $x$ to $y_{max}$.\n",
    "\n",
    "The reason this all works is the frequentist interpretation of probability in each $x$ sliver\n",
    "As we have more samples the accept-to-total ratio reflects the probablity mass in that sliver better.\n",
    "\n",
    "### Example\n",
    "\n",
    "The following code produces samples that follow the distribution $P(x)=e^{-x}$ \n",
    "  for $x=[0,10]$ and generates a histogram of the sampled distribution. "
   ]
  },
  {
   "cell_type": "code",
   "execution_count": 3,
   "metadata": {
    "collapsed": false
   },
   "outputs": [
    {
     "name": "stdout",
     "output_type": "stream",
     "text": [
      "Count 100294 Accepted 10000\n"
     ]
    },
    {
     "data": {
      "text/plain": [
       "<matplotlib.legend.Legend at 0x114063908>"
      ]
     },
     "execution_count": 3,
     "metadata": {},
     "output_type": "execute_result"
    },
    {
     "data": {
      "image/png": "[encoded data removed]",
      "text/plain": [
       "<matplotlib.figure.Figure at 0x114063978>"
      ]
     },
     "metadata": {},
     "output_type": "display_data"
    }
   ],
   "source": [
    "\n",
    "P = lambda x: np.exp(-x)\n",
    "\n",
    "# domain limits\n",
    "xmin = 0 # the lower limit of our domain\n",
    "xmax = 10 # the upper limit of our domain\n",
    "\n",
    "# range limit (supremum) for y\n",
    "ymax = 1\n",
    "#you might have to do an optimization to find this.\n",
    "\n",
    "N = 10000 # the total of samples we wish to generate\n",
    "accepted = 0 # the number of accepted samples\n",
    "samples = np.zeros(N)\n",
    "count = 0 # the total count of proposals\n",
    "\n",
    "# generation loop\n",
    "while (accepted < N):\n",
    "    \n",
    "    # pick a uniform number on [xmin, xmax) (e.g. 0...10)\n",
    "    x = np.random.uniform(xmin, xmax)\n",
    "    \n",
    "    # pick a uniform number on [0, ymax)\n",
    "    y = np.random.uniform(0,ymax)\n",
    "    \n",
    "    # Do the accept/reject comparison\n",
    "    if y < P(x):\n",
    "        samples[accepted] = x\n",
    "        accepted += 1\n",
    "    \n",
    "    count +=1\n",
    "    \n",
    "print(\"Count\",count, \"Accepted\", accepted)\n",
    "\n",
    "# get the histogram info\n",
    "hinfo = np.histogram(samples,30)\n",
    "\n",
    "# plot the histogram\n",
    "plt.hist(samples,bins=30, label=u'Samples');\n",
    "\n",
    "# plot our (normalized) function\n",
    "xvals=np.linspace(xmin, xmax, 1000)\n",
    "plt.plot(xvals, hinfo[0][0]*P(xvals), 'r', label=u'P(x)')\n",
    "\n",
    "# turn on the legend\n",
    "plt.legend()\n"
   ]
  },
  {
   "cell_type": "markdown",
   "metadata": {},
   "source": [
    "Notice that $y_{max}$ was just assumed here. In general we might have to do a maximization. This has a cost. We want to keep this cost low, or we might be spending some time there. If the optimization is complex, it might be cheaper to  do something else..."
   ]
  },
  {
   "cell_type": "markdown",
   "metadata": {},
   "source": [
    "## Rejection Sampling with Steroids\n",
    "\n",
    "The simple rejection sampling method has fundamental problems.  \n",
    "\n",
    "For our simple example, it's quite easy to determine the supremum.  In practice, while you may know how to quickly (i.e. constant time) evaluate your function everywhere on the domain of interest, finding a bound very close to the  supremum may not be a feasible calculation.  In addition, even if you find a tight bound for the supremum, basic rejection sampling will still be very inefficient as you will reject many samples (especially in low density regions). \n",
    "\n",
    "This is a hard problem to solve and we will need other techniques to address this problem of **low acceptance probability**.\n",
    "\n",
    "However, it is possible to do a more efficient job while still taking advantage of the simplicity of rejection sampling.  Our modified technique will introduce a **proposal density** $g(x)$. This notion of a proposal density is one used in many sampling techniques, in different ways, but its importance will always lie in figuring ways to increase the acceptance rate.\n",
    "\n",
    "The proposal density will have the following characteristics:\n",
    "\n",
    "- $g(x)$ is easy to sample from and (calculate the pdf)\n",
    "- Some $M$ exists so that $M \\, g(x) > f(x)$ in your entire domain of interest\n",
    "- ideally $g(x)$ will be somewhat close to $f$ so that you'll sample more in high density regions  and much less in low density regions\n",
    "\n",
    "Its probably obvious that an optimal value for M is the supremum over your domain of interest of $f/g$.\n",
    "\n",
    "Once you've picked a proposal distribution g, your modified rejection sampling technique is as follows:\n",
    "\n",
    "1. Draw $x$ from your proposal distribution $g(x)$\n",
    "2. Draw $y$ uniformly from [0,1]\n",
    "3. if $y$ < f($x$)/$M g(x)$, accept the sample\n",
    "4. otherwise reject it\n",
    "5. repeat\n",
    "\n",
    "The entire process is illustrated in the diagram below:\n",
    "\n",
    "![](images/rejsteroid.png)\n",
    "\n",
    "**Example**\n",
    "\n",
    "The following code produces samples that follow the distribution $P(x)=e^{-x}$ \n",
    "  for $x=[0,10]$ and generates a histogram of the sampled distribution. "
   ]
  },
  {
   "cell_type": "code",
   "execution_count": 5,
   "metadata": {
    "collapsed": false
   },
   "outputs": [
    {
     "name": "stdout",
     "output_type": "stream",
     "text": [
      "Count 23809 Accepted 10000\n"
     ]
    },
    {
     "data": {
      "text/plain": [
       "<matplotlib.legend.Legend at 0x11659aa20>"
      ]
     },
     "execution_count": 5,
     "metadata": {},
     "output_type": "execute_result"
    },
    {
     "data": {
      "image/png": "[encoded data removed]",
      "text/plain": [
       "<matplotlib.figure.Figure at 0x11659ae48>"
      ]
     },
     "metadata": {},
     "output_type": "display_data"
    }
   ],
   "source": [
    "\n",
    "p = lambda x: np.exp(-x)  # our distribution\n",
    "g = lambda x: 1/(x+1)  # our proposal pdf (we're thus choosing M to be 1)\n",
    "invCDFg = lambda x: np.log(x +1) # generates our proposal using inverse sampling\n",
    "\n",
    "# domain limits\n",
    "xmin = 0 # the lower limit of our domain\n",
    "xmax = 10 # the upper limit of our domain\n",
    "\n",
    "# range limits for inverse sampling\n",
    "umin = invCDFg(xmin)\n",
    "umax = invCDFg(xmax)\n",
    "\n",
    "N = 10000 # the total of samples we wish to generate\n",
    "accepted = 0 # the number of accepted samples\n",
    "samples = np.zeros(N)\n",
    "count = 0 # the total count of proposals\n",
    "\n",
    "# generation loop\n",
    "while (accepted < N):\n",
    "    \n",
    "    # Sample from g using inverse sampling\n",
    "    u = np.random.uniform(umin, umax)\n",
    "    xproposal = np.exp(u) - 1\n",
    "    \n",
    "    # pick a uniform number on [0, 1)\n",
    "    y = np.random.uniform(0,1)\n",
    "    \n",
    "    # Do the accept/reject comparison\n",
    "    if y < p(xproposal)/g(xproposal):\n",
    "        samples[accepted] = xproposal\n",
    "        accepted += 1\n",
    "    \n",
    "    count +=1\n",
    "    \n",
    "print(\"Count\", count, \"Accepted\", accepted)\n",
    "\n",
    "# get the histogram info\n",
    "hinfo = np.histogram(samples,50)\n",
    "\n",
    "# plot the histogram\n",
    "plt.hist(samples,bins=50, label=u'Samples');\n",
    "\n",
    "# plot our (normalized) function\n",
    "xvals=np.linspace(xmin, xmax, 1000)\n",
    "plt.plot(xvals, hinfo[0][0]*p(xvals), 'r', label=u'p(x)')\n",
    "\n",
    "# turn on the legend\n",
    "plt.legend()\n"
   ]
  }
 ],
 "metadata": {
  "anaconda-cloud": {},
  "celltoolbar": "Edit Metadata",
  "kernelspec": {
   "display_name": "Python [default]",
   "language": "python",
   "name": "python3"
  },
  "language_info": {
   "codemirror_mode": {
    "name": "ipython",
    "version": 3
   },
   "file_extension": ".py",
   "mimetype": "text/x-python",
   "name": "python",
   "nbconvert_exporter": "python",
   "pygments_lexer": "ipython3",
   "version": "3.5.2"
  }
 },
 "nbformat": 4,
 "nbformat_minor": 0
}
